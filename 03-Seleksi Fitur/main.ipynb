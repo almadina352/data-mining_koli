{
 "cells": [
  {
   "cell_type": "code",
   "execution_count": 1,
   "id": "c138f140",
   "metadata": {},
   "outputs": [],
   "source": [
    "import pandas as pd"
   ]
  },
  {
   "cell_type": "code",
   "execution_count": 2,
   "id": "41446ebc",
   "metadata": {},
   "outputs": [],
   "source": [
    "df = pd.read_csv('../iris.csv')"
   ]
  },
  {
   "cell_type": "code",
   "execution_count": 4,
   "id": "ddbf72c4",
   "metadata": {},
   "outputs": [
    {
     "name": "stdout",
     "output_type": "stream",
     "text": [
      "Korelasi antar fitur:\n",
      "                     Id  SepalLengthCm  SepalWidthCm  PetalLengthCm  \\\n",
      "Id             1.000000       0.716676     -0.397729       0.882747   \n",
      "SepalLengthCm  0.716676       1.000000     -0.109369       0.871754   \n",
      "SepalWidthCm  -0.397729      -0.109369      1.000000      -0.420516   \n",
      "PetalLengthCm  0.882747       0.871754     -0.420516       1.000000   \n",
      "PetalWidthCm   0.899759       0.817954     -0.356544       0.962757   \n",
      "\n",
      "               PetalWidthCm  \n",
      "Id                 0.899759  \n",
      "SepalLengthCm      0.817954  \n",
      "SepalWidthCm      -0.356544  \n",
      "PetalLengthCm      0.962757  \n",
      "PetalWidthCm       1.000000  \n"
     ]
    }
   ],
   "source": [
    "corr = df.drop('Species', axis=1).corr()\n",
    "print(\"Korelasi antar fitur:\")\n",
    "print(corr)"
   ]
  }
 ],
 "metadata": {
  "kernelspec": {
   "display_name": "Python 3",
   "language": "python",
   "name": "python3"
  },
  "language_info": {
   "codemirror_mode": {
    "name": "ipython",
    "version": 3
   },
   "file_extension": ".py",
   "mimetype": "text/x-python",
   "name": "python",
   "nbconvert_exporter": "python",
   "pygments_lexer": "ipython3",
   "version": "3.13.7"
  }
 },
 "nbformat": 4,
 "nbformat_minor": 5
}
