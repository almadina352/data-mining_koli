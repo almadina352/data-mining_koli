{
 "cells": [
  {
   "cell_type": "code",
   "execution_count": 1,
   "id": "2aabc42d",
   "metadata": {},
   "outputs": [],
   "source": [
    "import pandas as pd"
   ]
  },
  {
   "cell_type": "code",
   "execution_count": 2,
   "id": "17a09689",
   "metadata": {},
   "outputs": [],
   "source": [
    "df = pd.read_csv('../iris_clean.csv')"
   ]
  },
  {
   "cell_type": "code",
   "execution_count": 4,
   "id": "0beaa60c",
   "metadata": {},
   "outputs": [
    {
     "name": "stdout",
     "output_type": "stream",
     "text": [
      "Hasil One-Hot Encoding:\n",
      "   Id  SepalLengthCm  SepalWidthCm  PetalLengthCm  PetalWidthCm  \\\n",
      "0   1            5.1           3.5            1.4           0.2   \n",
      "1   2            4.9           3.0            1.4           0.2   \n",
      "2   3            4.7           3.2            1.3           0.2   \n",
      "3   4            4.6           3.1            1.5           0.2   \n",
      "4   5            5.0           3.6            1.4           0.2   \n",
      "\n",
      "   Species_Iris-setosa  Species_Iris-versicolor  Species_Iris-virginica  \n",
      "0                 True                    False                   False  \n",
      "1                 True                    False                   False  \n",
      "2                 True                    False                   False  \n",
      "3                 True                    False                   False  \n",
      "4                 True                    False                   False  \n"
     ]
    }
   ],
   "source": [
    "df_encoded = pd.get_dummies(df, columns=['Species'])\n",
    "\n",
    "print(\"Hasil One-Hot Encoding:\")\n",
    "print(df_encoded.head())"
   ]
  },
  {
   "cell_type": "code",
   "execution_count": 5,
   "id": "9d5e8085",
   "metadata": {},
   "outputs": [],
   "source": [
    "df_encoded.to_csv('../iris_onehot.csv', index=False)"
   ]
  }
 ],
 "metadata": {
  "kernelspec": {
   "display_name": "Python 3",
   "language": "python",
   "name": "python3"
  },
  "language_info": {
   "codemirror_mode": {
    "name": "ipython",
    "version": 3
   },
   "file_extension": ".py",
   "mimetype": "text/x-python",
   "name": "python",
   "nbconvert_exporter": "python",
   "pygments_lexer": "ipython3",
   "version": "3.13.7"
  }
 },
 "nbformat": 4,
 "nbformat_minor": 5
}
